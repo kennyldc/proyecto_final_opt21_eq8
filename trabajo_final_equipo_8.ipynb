{
 "cells": [
  {
   "cell_type": "markdown",
   "metadata": {},
   "source": [
    "# Trabajo Final Escrito - Equipo 8\n",
    "- Carlos Eduardo López de la Cerda Bazaldúa 158122\n",
    "- Fernando Miñaur Olivares 158125\n",
    "- Juan Humberto Escalona Santiago 203131\n",
    "\n",
    "### 2 de diciembre de 2021"
   ]
  },
  {
   "cell_type": "markdown",
   "metadata": {},
   "source": [
    "## Trabajo: Índice financiero multidimensional: una aplicación de componentes principales desde la optimización\n",
    "\n",
    "### Objetivo del Trabajo \n",
    "\n",
    "En nuestro trabajo final nos concentraremos en crear un índice financiero utilizando como insumo diversos indicadores financieros mundiales. Para conseguir este objetivo, en el proyecto planteamos un Análisis de Componentes Principales (PCA) usando el método de la potencia y deflation."
   ]
  },
  {
   "cell_type": "markdown",
   "metadata": {
    "tags": []
   },
   "source": [
    "# Método de la potencia"
   ]
  },
  {
   "cell_type": "markdown",
   "metadata": {},
   "source": [
    "El método de la potencia se utiliza para el cálculo del eigenvalor de módulo máximo y su respectivo eigenvector de una matriz $A$ de dimensiones $n$ x $n$. La forma en la que se realiza este método es con la multiplicación de un vector arbitrario no nulo $x_0$ con la matriz $A$ de manera repetitiva lo que casi siempre converge a un múltiplo del eigenvector de la matriz $A$ asociado al eigenvalor $\\lambda$."
   ]
  },
  {
   "cell_type": "markdown",
   "metadata": {},
   "source": [
    "$$ x_k = A x_{(k-1)}$$"
   ]
  },
  {
   "cell_type": "markdown",
   "metadata": {},
   "source": [
    "$$ x_k = Ax_{(k-1)} = A^2x_{(k-2)}= ...= A^kx_0  $$\n",
    "$$ = A^k \\sum_{i=1}^{n} \\alpha_i q_i= \\sum_{i=1}^{n} \\alpha_i A^kq_i = \\sum_{i=1}^{n} \\alpha_i \\lambda_i^k q_i$$"
   ]
  },
  {
   "cell_type": "markdown",
   "metadata": {},
   "source": [
    "$$ = \\lambda_i^k (\\alpha_1 q_1 + \\sum_{i=2}^{n} (\\frac{\\lambda_i}{\\lambda_1})^k \\alpha_iq_i)$$ "
   ]
  },
  {
   "cell_type": "markdown",
   "metadata": {},
   "source": [
    "Gracias al método de la potencia es posible aproximar el el eigenvector asociado al eigenvalor con módulo máximo, sin embargo para calcular otras parejas de eigenvalores con sus repectivos eigenvectores se tiene que recurrir al método de deflation. Algunos de los problemas que presenta el uso de este método es que si existe cercanía entre el valor obsoluto de los eigenvalores la convergencia es lenta, además si existe más de solo un eigenvalor que tenga el mismo módulo puede fallar. "
   ]
  },
  {
   "cell_type": "markdown",
   "metadata": {},
   "source": [
    "# Método de deflation "
   ]
  },
  {
   "cell_type": "markdown",
   "metadata": {},
   "source": [
    "Utilizando el método de la potencia añadiendo el proceso de deflation es posible calcular los siguientes eigenvalores. "
   ]
  },
  {
   "cell_type": "markdown",
   "metadata": {},
   "source": [
    "# Referencias\n",
    "\n",
    "* [Rassiga Paula. (2017). Análisis de componente principales: enfoque teórico. En Índice financiero multidimensional: una aplicación de componentes principales(2-9). Victoria, Buenos Aires: Universidad de San Andrés](https://repositorio.udesa.edu.ar/jspui/bitstream/10908/15785/1/%5BP%5D%5BW%5D%20T.%20L.%20Eco.%20Rassiga%2C%20Paula.pdf)\n",
    "\n",
    "* [Rassiga Paula. (2017). Aplicación del Método ACP. En Índice financiero multidimensional: una aplicación de componentes principales(2-9). Victoria, Buenos Aires: Universidad de San Andrés.](https://repositorio.udesa.edu.ar/jspui/bitstream/10908/15785/1/%5BP%5D%5BW%5D%20T.%20L.%20Eco.%20Rassiga%2C%20Paula.pdf)\n",
    "\n",
    "* [Heath Michael T. (2002). Scientific Computing An Introductory Survey. Chicago: University of Illinois at Urbana-Champaign.](https://e6.ijs.si/~roman/files/tmp/M.Heath-SComputing/scientific-computing-michael-t-heath.pdf)\n"
   ]
  },
  {
   "cell_type": "code",
   "execution_count": null,
   "metadata": {},
   "outputs": [],
   "source": []
  }
 ],
 "metadata": {
  "kernelspec": {
   "display_name": "Python 3 (ipykernel)",
   "language": "python",
   "name": "python3"
  },
  "language_info": {
   "codemirror_mode": {
    "name": "ipython",
    "version": 3
   },
   "file_extension": ".py",
   "mimetype": "text/x-python",
   "name": "python",
   "nbconvert_exporter": "python",
   "pygments_lexer": "ipython3",
   "version": "3.8.10"
  }
 },
 "nbformat": 4,
 "nbformat_minor": 4
}
