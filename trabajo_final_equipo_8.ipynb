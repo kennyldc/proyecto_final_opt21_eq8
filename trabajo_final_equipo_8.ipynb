{
 "cells": [
  {
   "cell_type": "markdown",
   "metadata": {},
   "source": [
    "# Trabajo Final Escrito - Equipo 8\n",
    "- Carlos Eduardo López de la Cerda Bazaldúa 158122\n",
    "- Fernando Miñaur Olivares 158125\n",
    "- Juan Humberto Escalona Santiago 203131\n",
    "\n",
    "### 2 de diciembre de 2021"
   ]
  },
  {
   "cell_type": "markdown",
   "metadata": {},
   "source": [
    "## Trabajo: Índice financiero multidimensional: una aplicación de componentes principales desde la optimización\n",
    "\n",
    "### Objetivo del Trabajo \n",
    "\n",
    "En nuestro trabajo final nos concentraremos en crear un índice financiero utilizando como insumo diversos indicadores financieros mundiales. Para conseguir este objetivo, en el proyecto planteamos un Análisis de Componentes Principales (PCA) usando el método de la potencia y deflation."
   ]
  },
  {
   "cell_type": "markdown",
   "metadata": {},
   "source": [
    "### Motivación del Trabajo\n",
    "\n",
    "#### Una introducción a los índices del mercado de valores \n",
    "\n",
    "El mercado financiero global representa uno de los pilares en la economía mundial y en gran medida su éxito o fracaso determina el rumbo de países enteros. Simplemente, crisis colosales como la provocada entre 2007 y 2008 comenzaron por el derrumbe de estos sectores arrastrando consigo a millones de ciudadanos que de manera directa participan con transacciones o de manera indirecta ven afectada su condición por los desbalances enteros que provoca para el gobierno y miles de empresas más. \n",
    "\n",
    "De manera menos fatalista, el mercado financiero es una imagen de la evolución del sector privado que puede ser motivado por el crecimiento de compañías que favorecen la innovación y aumentan el bienestar de los consumidores por medio de nuevos productos. Así, cualquier persona que desee participar en la compra-venta de acciones podría generar rendimientos de sus inversiones y participar como accionista en el mercado o bien podría ser beneficiada por el éxito de diversas empresas quienes generan entornos de crecimiento económico para la sociedad y el país donde se encuentran por medio de creación de empleos directos o del aumento en las transacciones locales. \n",
    "\n",
    "Desde una perspectiva macro, identificar y sintetizar la condición de determinados mercados financieros ayuda a identificar tendencias y prever épocas de declive o de auge. Con esta información, diferentes tomadores de decisión pueden elaborar estrategias preventivas para evitar escenarios poco favorables económicamente e implementar medidas cautelares que favorezcan la confianza en el entorno bursátil.\n",
    "\n",
    "Con cientos de miles de empresas conviviendo y con la participación de millones de inversores, las aproximaciones para conocer el verdadero estado del mercado financiero se convierten en todo un reto. La manera en que se sintetiza esta información necesariamente debe ocurrir por porciones donde se puede ver la condición de cierta región, industria o segmento del mercado. Así, el trasfondo metodológico adquiere relevancia y se echa mano de diversos índices que reflejan ciertos datos particulares.\n",
    "\n",
    "Dentro del sector usualmente se echa mano de los índices bursátiles (en inglés conocidos como **stock market indexes** los cuales pueden ser definidos como una imagen o muestra del valor accionario de una industria o una sección de mercado definida. A manera de analogía se pueden pensar como un portafolio hipotético compuesto por una característica similar como lo son un ramo empresarial (por ejemplo tecnología) o una cota geográfica (como un país).\n",
    "\n",
    "De manera más técnica estos valores se construyen por medio de ponderaciones que incluyen partes fundamentales de una empresa y su valor de venta accionaria como lo son la capitalización bursátil (el valor de las acciones por el número disponible de ella) o el valor máximo de una acción unitaria (influenciado por la oferta y demanda de las mismas).  \n",
    "\n",
    "Los indicadores bursátiles son utilizados por inversionistas, organismos financieros y analistas para monitorear las tendencias del mercado en general o de su ramo de interés en búsqueda de anticiparse a posibles caídas del valor de sus acciones o sacar provecho de un período de crecimiento. Por otra parte, también pueden funcionar como punto de comparación del propio desempeño de sus acciones e identificar su posición con respecto al resto de participantes en el mercado. "
   ]
  },
  {
   "cell_type": "markdown",
   "metadata": {},
   "source": [
    "#### Índices bursátiles utilizados para el proyecto\n",
    "\n",
    "Dada la importancia que tienen los índices bursátiles en las finanzas, para nuestro proyecto decidimos utilizar aquellos de mayor relevancia en el mercado financiero más importante del mundo, el norteamericano. En particular, se obtuvieron los datos históricos de los últimos 4 años (del 29 de noviembre de 2017 al 29 de noviembre del 2021) de los siguientes: 1) Dow Jones (DJ) Utility; 2) DJ Composite; 3) CBOE Volatility; 4) DJ Industrial Average; 5) NASDAQ 100; 6) NAQC; 7) NYSE Composite; 8) NYSE Market Composite; 9) Russell 200; 10) S&P 100; 11) S&P 500.\n",
    "\n",
    "Cada uno de ellos refleja algún segmento o ramo del mercado y el valor del índice marca la tendencia de las acciones y el desempeño financiero para ese grupo definido. Los valores fueron obtenidos del sitio de Internet [Investing](https://www.investing.com) y cada entrada representa el valor al cierre. Adicionalmente, es importante mencionar que la escala con la que se mide cada uno de estos indicadores no es la misma por lo que los usuarios de esta información no toman los cambios en valores absolutos sino que suelen hacer inferencias de los cambios porcentuales o directamente de las tendencias en el mediano plazo."
   ]
  },
  {
   "cell_type": "markdown",
   "metadata": {
    "tags": []
   },
   "source": [
    "# Método de la potencia"
   ]
  },
  {
   "cell_type": "markdown",
   "metadata": {},
   "source": [
    "El método de la potencia se utiliza para el cálculo del eigenvalor de módulo máximo y su respectivo eigenvector de una matriz $A$ de dimensiones $n$ x $n$. La forma en la que se realiza este método es con la multiplicación de un vector arbitrario no nulo $x_0$ con la matriz $A$ de manera repetitiva lo que casi siempre converge a un múltiplo del eigenvector de la matriz $A$ asociado al eigenvalor $\\lambda$."
   ]
  },
  {
   "cell_type": "markdown",
   "metadata": {},
   "source": [
    "$$ x_k = A x_{(k-1)}$$"
   ]
  },
  {
   "cell_type": "markdown",
   "metadata": {},
   "source": [
    "$$ x_k = Ax_{(k-1)} = A^2x_{(k-2)}= ...= A^kx_0  $$\n",
    "$$ = A^k \\sum_{i=1}^{n} \\alpha_i q_i= \\sum_{i=1}^{n} \\alpha_i A^kq_i = \\sum_{i=1}^{n} \\alpha_i \\lambda_i^k q_i$$"
   ]
  },
  {
   "cell_type": "markdown",
   "metadata": {},
   "source": [
    "$$ = \\lambda_i^k (\\alpha_1 q_1 + \\sum_{i=2}^{n} (\\frac{\\lambda_i}{\\lambda_1})^k \\alpha_iq_i)$$ "
   ]
  },
  {
   "cell_type": "markdown",
   "metadata": {},
   "source": [
    "Gracias al método de la potencia es posible aproximar el eigenvector asociado al eigenvalor con módulo máximo, sin embargo para calcular otras parejas de eigenvalores con sus repectivos eigenvectores se tiene que recurrir al método de deflation. Algunos de los problemas que presenta el uso de este método es que si existe cercanía entre el valor obsoluto de los eigenvalores la convergencia es lenta, además si existe más de solo un eigenvalor que tenga el mismo módulo puede fallar. "
   ]
  },
  {
   "cell_type": "markdown",
   "metadata": {},
   "source": [
    "# Método de deflation "
   ]
  },
  {
   "cell_type": "markdown",
   "metadata": {},
   "source": [
    "Utilizando el método de la potencia y añadiendo el proceso de deflation es posible calcular los siguientes eigenvalores. El proceso consiste en remover la raiz conocida del eigenvalor $\\lambda_1$ de un polinomio $p(\\lambda)$ dividiendolo para optener el polinomio $p(\\lambda)/(\\lambda - \\lambda_1)$ de grado menos uno. Por lo que con lo método de la potencia obtenemos el eigenvalor de módulo máximo $\\lambda_1$ con su respectivo eigenvector $x_1$ de la matriz $A$.\n",
    "\n",
    "Sea $u_1$ cualquier vector tal que $u_1^Tx_1=\\lambda_1.$. Entonces la matriz generada por $A-x_1u_1^T$ tiene eigenvalores $ 0, \\lambda_2, ... \\lambda_n$. Las altenernativas de crear $u_1$ son las siguientes:\n",
    "\n",
    "- $u_1 = \\lambda_1 x_1$ si la matriz $A$ es simétrica y que $||x_1||_2=1$.\n",
    "- $u_1 = \\lambda_1y_1$ dado que $y_1$ corresponde al eigenvalor izquierdo normalizado tal que $y_1^Tx_1=1$.\n",
    "- $u_1 = A^T e_k $ si $x_1$ normalizado es $||x_1||\\infty=1$ y el $k$-esimo componente de $x_1$ es igual a $1$."
   ]
  },
  {
   "cell_type": "markdown",
   "metadata": {},
   "source": [
    "No es ideal realizar el proceso de deflation de forma repetida sobre una matriz ya que conforme más se repite se pierde precisión númerica, en los eigenvalores obtenidos. "
   ]
  },
  {
   "cell_type": "markdown",
   "metadata": {},
   "source": [
    "# Referencias\n",
    "\n",
    "* [Rassiga Paula. (2017). Análisis de componente principales: enfoque teórico. En Índice financiero multidimensional: una aplicación de componentes principales(2-9). Victoria, Buenos Aires: Universidad de San Andrés](https://repositorio.udesa.edu.ar/jspui/bitstream/10908/15785/1/%5BP%5D%5BW%5D%20T.%20L.%20Eco.%20Rassiga%2C%20Paula.pdf)\n",
    "\n",
    "* [Rassiga Paula. (2017). Aplicación del Método ACP. En Índice financiero multidimensional: una aplicación de componentes principales(2-9). Victoria, Buenos Aires: Universidad de San Andrés.](https://repositorio.udesa.edu.ar/jspui/bitstream/10908/15785/1/%5BP%5D%5BW%5D%20T.%20L.%20Eco.%20Rassiga%2C%20Paula.pdf)\n",
    "\n",
    "* [Heath Michael T. (2002). Scientific Computing An Introductory Survey. Chicago: University of Illinois at Urbana-Champaign.](https://e6.ijs.si/~roman/files/tmp/M.Heath-SComputing/scientific-computing-michael-t-heath.pdf)\n"
   ]
  }
 ],
 "metadata": {
  "kernelspec": {
   "display_name": "Python 3",
   "language": "python",
   "name": "python3"
  },
  "language_info": {
   "codemirror_mode": {
    "name": "ipython",
    "version": 3
   },
   "file_extension": ".py",
   "mimetype": "text/x-python",
   "name": "python",
   "nbconvert_exporter": "python",
   "pygments_lexer": "ipython3",
   "version": "3.8.3"
  }
 },
 "nbformat": 4,
 "nbformat_minor": 4
}
