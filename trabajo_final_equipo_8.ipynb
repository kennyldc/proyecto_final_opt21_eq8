{
 "cells": [
  {
   "cell_type": "markdown",
   "metadata": {},
   "source": [
    "# Trabajo Final Escrito - Equipo 8\n",
    "- Carlos Eduardo López de la Cerda Bazaldúa 158122\n",
    "- Fernando Miñaur Olivares 158125\n",
    "- Juan Humberto Escalona Santiago 203131\n",
    "\n",
    "### 2 de diciembre de 2021"
   ]
  },
  {
   "cell_type": "markdown",
   "metadata": {},
   "source": [
    "## Trabajo: Índice financiero multidimensional: una aplicación de componentes principales desde la optimización\n",
    "\n",
    "### Objetivo del Trabajo \n",
    "\n",
    "En nuestro trabajo final nos concentraremos en crear un índice financiero utilizando como insumo diversos indicadores financieros mundiales. Para conseguir este objetivo, en el proyecto planteamos un Análisis de Componentes Principales (PCA) usando el método de la potencia y deflation."
   ]
  },
  {
   "cell_type": "markdown",
   "metadata": {
    "tags": []
   },
   "source": [
    "# Método de la potencia"
   ]
  },
  {
   "cell_type": "markdown",
   "metadata": {},
   "source": [
    "# Método de deflation "
   ]
  },
  {
   "cell_type": "markdown",
   "metadata": {},
   "source": [
    "# Referencias\n",
    "\n",
    "* [Rassiga Paula. (2017). Análisis de componente principales: enfoque teórico. En Índice financiero multidimensional: una aplicación de componentes principales(2-9). Victoria, Buenos Aires: Universidad de San Andrés](https://repositorio.udesa.edu.ar/jspui/bitstream/10908/15785/1/%5BP%5D%5BW%5D%20T.%20L.%20Eco.%20Rassiga%2C%20Paula.pdf)\n",
    "\n",
    "* [Rassiga Paula. (2017).Aplicación del Método ACP. En Índice financiero multidimensional: una aplicación de componentes principales(2-9). Victoria, Buenos Aires: Universidad de San Andrés.](https://repositorio.udesa.edu.ar/jspui/bitstream/10908/15785/1/%5BP%5D%5BW%5D%20T.%20L.%20Eco.%20Rassiga%2C%20Paula.pdf)\n"
   ]
  }
 ],
 "metadata": {
  "kernelspec": {
   "display_name": "Python 3 (ipykernel)",
   "language": "python",
   "name": "python3"
  },
  "language_info": {
   "codemirror_mode": {
    "name": "ipython",
    "version": 3
   },
   "file_extension": ".py",
   "mimetype": "text/x-python",
   "name": "python",
   "nbconvert_exporter": "python",
   "pygments_lexer": "ipython3",
   "version": "3.8.10"
  }
 },
 "nbformat": 4,
 "nbformat_minor": 4
}
