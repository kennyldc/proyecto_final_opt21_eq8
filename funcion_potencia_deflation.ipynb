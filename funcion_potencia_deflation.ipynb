{
 "cells": [
  {
   "cell_type": "code",
   "execution_count": 1,
   "metadata": {},
   "outputs": [],
   "source": [
    "import numpy as np\n",
    "import matplotlib.pyplot as plt\n",
    "import pandas as pd\n",
    "from decimal import *\n",
    "import math"
   ]
  },
  {
   "cell_type": "code",
   "execution_count": 2,
   "metadata": {},
   "outputs": [],
   "source": [
    "def approx_eigval_max(matriz_covarianza,max_iters):\n",
    "    z_k_minus_1=[]\n",
    "    getcontext().prec = 7\n",
    "    eigen_val_ant=1\n",
    "    eigen_val=0\n",
    "    eigen_vec=(np.zeros((1,5)))\n",
    "    k=0\n",
    "    #Se crea una lista que contenga el número de columnas = al número de renglones de la matriz\n",
    "    #de covarianzas -1 y al final se agrega un uno para seguir el algoritmo de la potencia\n",
    "    for i in range(len(matriz_covarianza)):\n",
    "        if i+1==len(matriz_covarianza):\n",
    "            z_k_minus_1.append(1)\n",
    "        else: \n",
    "            z_k_minus_1.append(0)\n",
    "    # A partir del número máximo de iteraciones se crea un ciclo para aproximar el eigenvalor\n",
    "    while (k <=max_iters) and (abs(Decimal(eigen_val)-Decimal(eigen_val_ant))>=1e-4):\n",
    "        eigen_val_ant=eigen_val\n",
    "        z_k=matriz_covarianza@z_k_minus_1\n",
    "        #Se normaliza el vector utilizando la norma cuadrada\n",
    "        eigen_vec=z_k/np.linalg.norm(z_k)\n",
    "        z_k_minus_1=eigen_vec\n",
    "        #Se genera el eigen valor utilizando el vector resultante y la matriz original\n",
    "        eigen_val=eigen_vec.T@matriz_covarianza@eigen_vec\n",
    "        \n",
    "        k=k+1 \n",
    "    return eigen_val,eigen_vec,matriz_covarianza"
   ]
  },
  {
   "cell_type": "code",
   "execution_count": 3,
   "metadata": {},
   "outputs": [],
   "source": [
    "#Método de Deflation\n",
    "def approx_eigval_min(matriz_covarianza,max_iters,eigen_val_1,eigen_vec_1):\n",
    "    z_k_minus_1=[]\n",
    "    eigen_val_ant=1\n",
    "    eigen_val=0\n",
    "    k=0\n",
    "    #Se crea una lista que contenga el número de columnas = al número de renglones de la matriz\n",
    "    #de covarianzas -1 y al final se agrega un uno para seguir el algoritmo de la potencia\n",
    "    for i in range(len(matriz_covarianza)):\n",
    "        if i+1==len(matriz_covarianza):\n",
    "            z_k_minus_1.append(1)\n",
    "        else: \n",
    "            z_k_minus_1.append(0)\n",
    "    #Para el método de deflaition se elimina el primer eigenvalor de la matriz y la resultante\n",
    "    # es una matriz que contine los eigenvalores {0,l2,l3...}\n",
    "    x1=np.array([[eigen_vec_1[0]],[eigen_vec_1[1]],[eigen_vec_1[2]],[eigen_vec_1[3]],[eigen_vec_1[4]]])\n",
    "    u1=eigen_val_1*x1\n",
    "    matriz_covarianza=matriz_covarianza-x1@u1.T\n",
    "    #Se genera un nuevo ciclo para calcular el segundo eigenvalor a partir del método potencia\n",
    "    while (k <=max_iters) and (abs(Decimal(eigen_val)-Decimal(eigen_val_ant))>=1e-4):\n",
    "        eigen_val_ant=eigen_val\n",
    "        z_k=matriz_covarianza@z_k_minus_1\n",
    "        #Se normaliza el vector utilizando la norma cuadrada\n",
    "        eigen_vec=z_k/np.linalg.norm(z_k)\n",
    "        z_k_minus_1=eigen_vec\n",
    "        #Se genera el eigen valor utilizando el vector resultante y la matriz original\n",
    "        eigen_val=eigen_vec.T@matriz_covarianza@eigen_vec\n",
    "        k=k+1\n",
    "    return eigen_val,eigen_vec,matriz_covarianza"
   ]
  },
  {
   "cell_type": "code",
   "execution_count": 4,
   "metadata": {},
   "outputs": [],
   "source": [
    "def lectura_graficas(archivo_csv):\n",
    "    datos=pd.read_csv(archivo_csv)\n",
    "    return datos\n",
    "def normalizar(dataframe):\n",
    "    medias = dataframe.mean(axis = 0)\n",
    "    desv = dataframe.std(axis = 0)\n",
    "    datos_norm = (dataframe - medias) / desv\n",
    "    return datos_norm\n",
    "\n",
    "def graficas(datos):\n",
    "    datos_norm=normalizar(datos)\n",
    "    for i in datos_norm.columns:\n",
    "        plt.plot(datos_norm[i], label=str(i))\n",
    "    plt.legend()\n",
    "    plt.show()"
   ]
  },
  {
   "cell_type": "code",
   "execution_count": null,
   "metadata": {},
   "outputs": [],
   "source": []
  }
 ],
 "metadata": {
  "kernelspec": {
   "display_name": "Python 3",
   "language": "python",
   "name": "python3"
  },
  "language_info": {
   "codemirror_mode": {
    "name": "ipython",
    "version": 3
   },
   "file_extension": ".py",
   "mimetype": "text/x-python",
   "name": "python",
   "nbconvert_exporter": "python",
   "pygments_lexer": "ipython3",
   "version": "3.7.6"
  }
 },
 "nbformat": 4,
 "nbformat_minor": 4
}
