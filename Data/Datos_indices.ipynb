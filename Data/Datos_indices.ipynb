{
 "cells": [
  {
   "cell_type": "code",
   "execution_count": 1,
   "id": "544664a5-1df2-40c9-9dbe-5784cfb44e0d",
   "metadata": {},
   "outputs": [],
   "source": [
    "import numpy as np\n",
    "import pandas as pd\n",
    "import csv\n",
    "import matplotlib.pyplot as plt"
   ]
  },
  {
   "cell_type": "code",
   "execution_count": 2,
   "id": "8ee91c00-46c6-4585-b306-ff2889a96ab5",
   "metadata": {},
   "outputs": [],
   "source": [
    "DJU = pd.read_csv('Datos Históricos DJ Utility.csv')\n",
    "DJC = pd.read_csv('Datos Históricos DJ Composite.csv')\n",
    "CBOE = pd.read_csv('Datos Históricos CBOE Volatility Index.csv')\n",
    "DJIA= pd.read_csv('Datos Históricos Dow Jones Industrial Average (1).csv')\n",
    "NAQ= pd.read_csv('Datos Históricos Nasdaq 100.csv')\n",
    "NAQC= pd.read_csv('Datos Históricos NASDAQ Composite.csv')\n",
    "NYSEC= pd.read_csv('Datos Históricos NYSE Composite.csv')\n",
    "NYSEM= pd.read_csv('Datos Históricos NYSE Market Composite.csv')\n",
    "RUS= pd.read_csv('Datos Históricos Russell 2000.csv')\n",
    "SP1= pd.read_csv('Datos Históricos S&P 100.csv')\n",
    "SP5=pd.read_csv('Datos Históricos S&P 500.csv')"
   ]
  },
  {
   "cell_type": "code",
   "execution_count": 3,
   "id": "f62e1fb1-e47b-4e65-be4d-9214ba91f379",
   "metadata": {},
   "outputs": [],
   "source": [
    "indices=pd.DataFrame({'DJ Utility': DJU['Cierre'],'DJ Composite':DJC['Cierre'],\n",
    "                     'CBOE Volatility': CBOE['Cierre'],'DJ Industrial Average':DJIA['Cierre'],\n",
    "                     'NASDAQ 100': NAQ['Cierre'],'NAQC':NAQC['Cierre'],\n",
    "                     'NYSE Composite': NYSEC['Cierre'],'NYSE Market Composite':NYSEM['Cierre'],\n",
    "                     'Russell 200': RUS['Cierre'],'S&P 100':SP1['Cierre'],\n",
    "                     'S&P 500': SP5['Cierre']})"
   ]
  },
  {
   "cell_type": "code",
   "execution_count": 4,
   "id": "83bcd051-c5ad-47c4-80c7-f73e3d751af8",
   "metadata": {},
   "outputs": [],
   "source": [
    "indices=indices.dropna()"
   ]
  },
  {
   "cell_type": "code",
   "execution_count": 5,
   "id": "ddd46378-3ade-4189-87c7-62cccd020def",
   "metadata": {},
   "outputs": [],
   "source": [
    "indices.to_csv('indices.csv')"
   ]
  }
 ],
 "metadata": {
  "kernelspec": {
   "display_name": "Python 3 (ipykernel)",
   "language": "python",
   "name": "python3"
  },
  "language_info": {
   "codemirror_mode": {
    "name": "ipython",
    "version": 3
   },
   "file_extension": ".py",
   "mimetype": "text/x-python",
   "name": "python",
   "nbconvert_exporter": "python",
   "pygments_lexer": "ipython3",
   "version": "3.7.1"
  }
 },
 "nbformat": 4,
 "nbformat_minor": 5
}
